{
 "cells": [
  {
   "cell_type": "markdown",
   "metadata": {},
   "source": [
    "## \"Практикум по программированию на языке Python\""
   ]
  },
  {
   "cell_type": "markdown",
   "metadata": {},
   "source": [
    "### Выполнил: <font color='red'>Глеб Молодцов, МФТИ, ФПМИ</font>\n",
    "\n",
    "### Тема: Основы анализа данных и машинного обучения\n",
    "\n",
    "#### Преподаватель: Мурат Апишев (mel-lain@yandex.ru)"
   ]
  },
  {
   "cell_type": "markdown",
   "metadata": {},
   "source": [
    "#### Постановка задачи:\n",
    "\n",
    "- В данной работе нужно решить ряд задач c использованием библиотек для обработки данных и машинного обучения, а также дать ичерпывающие ответы на поставленные вопросы.\n",
    "- В задачах 1-3 запрещается использовать циклы, генераторы списков и списковые включения, а также функции высшего порядка, необходимо написать тесты, проверяющие работу решения в обычных и крайних случаях.\n",
    "- Даже если это не указано явно в требованиях, код должен быть по возможности неизбыточным, работать с разумной сложностью и объёмом потребялемой памяти, проверяющие могут снизить балл за задание, выполненное без учёта этого требования.\n",
    "- Результирующий код должен быть читаемым, с единой системой отступов и адеквантными названиями переменных, проверяющие могут снизить балл за задание, выполненное без учёта этого требования.\n",
    "- Везде, где это требуется, должны быть отрисованы необходимые графики и даны комментарии и выводы."
   ]
  },
  {
   "cell_type": "markdown",
   "metadata": {},
   "source": [
    "__Задание 1 (0.5 балла):__ Проверить, что все элементы входного массива строго положительны."
   ]
  },
  {
   "cell_type": "code",
   "execution_count": 8,
   "metadata": {},
   "outputs": [],
   "source": [
    "import numpy as np\n",
    "def task_1(arr):\n",
    "    if (len(arr) == 0):\n",
    "        return(\"Yes\")\n",
    "    else:\n",
    "        return(min(arr) > 0)"
   ]
  },
  {
   "cell_type": "code",
   "execution_count": 9,
   "metadata": {},
   "outputs": [
    {
     "name": "stdout",
     "output_type": "stream",
     "text": [
      "[]\n",
      "Yes\n",
      "\n",
      "[0]\n",
      "False\n",
      "\n",
      "[1]\n",
      "True\n",
      "\n",
      "[-1]\n",
      "False\n",
      "\n",
      "[1, 2, 3]\n",
      "True\n",
      "\n",
      "[1, -2, 3]\n",
      "False\n",
      "\n",
      "[0, 2, 3]\n",
      "False\n"
     ]
    }
   ],
   "source": [
    "print([])\n",
    "print(task_1([]))\n",
    "\n",
    "print('\\n[0]')\n",
    "print(task_1([0]))\n",
    "\n",
    "print('\\n[1]')\n",
    "print(task_1([1]))\n",
    "\n",
    "print('\\n[-1]')\n",
    "print(task_1([-1]))\n",
    "\n",
    "print('\\n[1, 2, 3]')\n",
    "print(task_1([1, 2, 3]))\n",
    "\n",
    "print('\\n[1, -2, 3]')\n",
    "print(task_1([1, -2, 3]))\n",
    "\n",
    "print('\\n[0, 2, 3]')\n",
    "print(task_1([0, 2, 3]))\n"
   ]
  },
  {
   "cell_type": "markdown",
   "metadata": {},
   "source": [
    "__Задание 2 (0.5 балла):__ В векторе повторить все значения `n` раз. Пример: для массива `[1, 2, 3]` и `n` равного 3 ответом должен быть массив `[1, 1, 1, 2, 2, 2, 3, 3, 3]`."
   ]
  },
  {
   "cell_type": "code",
   "execution_count": 46,
   "metadata": {},
   "outputs": [],
   "source": [
    "def task_2(arr, n):\n",
    "    arr1 = np.ndarray.flatten(np.array(list(map(lambda x: [x]*n, arr))))\n",
    "    arr = np.array(arr)\n",
    "    arr = np.repeat(arr, repeats=n)\n",
    "    return(arr1, arr)"
   ]
  },
  {
   "cell_type": "code",
   "execution_count": 47,
   "metadata": {},
   "outputs": [
    {
     "name": "stdout",
     "output_type": "stream",
     "text": [
      "[1, 2, 3], 3\n",
      "(array([1, 1, 1, 2, 2, 2, 3, 3, 3]), array([1, 1, 1, 2, 2, 2, 3, 3, 3]))\n",
      "\n",
      "[], 5\n",
      "(array([], dtype=float64), array([], dtype=float64))\n",
      "\n",
      "[0], 0\n",
      "(array([], dtype=float64), array([], dtype=float64))\n",
      "\n",
      "[-1, 2.125], 10\n",
      "(array([-1.   , -1.   , -1.   , -1.   , -1.   , -1.   , -1.   , -1.   ,\n",
      "       -1.   , -1.   ,  2.125,  2.125,  2.125,  2.125,  2.125,  2.125,\n",
      "        2.125,  2.125,  2.125,  2.125]), array([-1.   , -1.   , -1.   , -1.   , -1.   , -1.   , -1.   , -1.   ,\n",
      "       -1.   , -1.   ,  2.125,  2.125,  2.125,  2.125,  2.125,  2.125,\n",
      "        2.125,  2.125,  2.125,  2.125]))\n"
     ]
    }
   ],
   "source": [
    "print('[1, 2, 3], 3')\n",
    "print(task_2([1, 2, 3], 3))\n",
    "\n",
    "print('\\n[], 5')\n",
    "print(task_2([], 5))\n",
    "\n",
    "print('\\n[0], 0')\n",
    "print(task_2([], 0))\n",
    "\n",
    "print('\\n[-1, 2.125], 10')\n",
    "print(task_2([-1, 2.125], 10))"
   ]
  },
  {
   "cell_type": "markdown",
   "metadata": {},
   "source": [
    "__Задание 3 (1 балл):__ Для векторов `V` и `v` построить вектор, в котором на 0-й позиции будет находиться сумма первых `v[0]` элементов вектора `V`, на 1-й - следующих `v[1]` элементов, и т.д. Гарантируется, что элементов в `V` достаточное количество. Пример: для массивов `V=[1, 2, 3, 4, 5, 6, 7, 8, 9, 10]` и `v=[2, 1, 3]` ответом будет `[3, 3, 15]`."
   ]
  },
  {
   "cell_type": "code",
   "execution_count": 109,
   "metadata": {},
   "outputs": [],
   "source": [
    "def task_3(V, v):\n",
    "    V = np.array(V)\n",
    "    V = np.concatenate(([0],V))\n",
    "    v = np.array(v)\n",
    "    V1 = np.cumsum(V)\n",
    "    v1 = np.cumsum(v)\n",
    "    #print(v1, V1)\n",
    "    res = []\n",
    "    for i in v1:\n",
    "        res.append(V1[i])\n",
    "    for i in range(len(res)-1,0,-1):\n",
    "        res[i] = res[i] - res[i-1]\n",
    "    return res"
   ]
  },
  {
   "cell_type": "code",
   "execution_count": 110,
   "metadata": {},
   "outputs": [
    {
     "name": "stdout",
     "output_type": "stream",
     "text": [
      "[1, 2, 3, 4, 5, 6, 7, 8, 9, 10]\n",
      "[2, 1, 3]\n",
      "[3, 3, 15] \n",
      "\n",
      "[1, 2, 3, 4, 5, 6, 7, 8, 9, 10]\n",
      "[1, 1, 1, 1, 1]\n",
      "[1, 2, 3, 4, 5] \n",
      "\n",
      "[1, 2, 3, 4, 5, 6, 7, 8, 9, 10]\n",
      "[3, 4, 3]\n",
      "[6, 22, 27] \n",
      "\n",
      "[1, 2, 3, 4, 5, 6, 7, 8, 9, 10]\n",
      "[1, 3, 4, 2]\n",
      "[1, 9, 26, 19] \n",
      "\n"
     ]
    }
   ],
   "source": [
    "V = [1, 2, 3, 4, 5, 6, 7, 8, 9, 10]\n",
    "v = [2, 1, 3]\n",
    "print(V)\n",
    "print(v)\n",
    "print(task_3(V, v), '\\n')\n",
    "\n",
    "v = [1, 1, 1, 1, 1]\n",
    "print(V)\n",
    "print(v)\n",
    "print(task_3(V, v), '\\n')\n",
    "\n",
    "V = [1, 2, 3, 4, 5, 6, 7, 8, 9, 10]\n",
    "v = [3, 4, 3]\n",
    "print(V)\n",
    "print(v)\n",
    "print(task_3(V, v), '\\n')\n",
    "\n",
    "v = [1, 3, 4, 2]\n",
    "print(V)\n",
    "print(v)\n",
    "print(task_3(V, v), '\\n')"
   ]
  },
  {
   "cell_type": "markdown",
   "metadata": {},
   "source": [
    "Для решения следующих заданий скачайте набор данных 20 News Group с помощью следующего кода:"
   ]
  },
  {
   "cell_type": "code",
   "execution_count": 113,
   "metadata": {},
   "outputs": [],
   "source": [
    "import pandas as pd\n",
    "from sklearn.datasets import fetch_20newsgroups\n",
    "\n",
    "X_train = fetch_20newsgroups(subset='train')\n",
    "X_test = fetch_20newsgroups(subset='test')\n",
    "\n",
    "label_names = pd.DataFrame(columns=['label_id', 'label_name'],\n",
    "                           data=[(i, e) for i, e in enumerate(list(X_train.target_names))])\n",
    "data = pd.DataFrame()\n",
    "data['text'] = X_train.data + X_test.data\n",
    "data['is_train'] = [True] * len(X_train.data) + [False] * len(X_test.data)\n",
    "data['label_id'] = list(X_train.target) + list(X_test.target)"
   ]
  },
  {
   "cell_type": "markdown",
   "metadata": {},
   "source": [
    "__Задание 4 (1 балл):__ Используя возможности библиотеки pandas\n",
    "\n",
    "- сделайте join таблиц `data` и `label_names`, удалив из итоговой таблицы поле `label_id`\n",
    "- посчитайте количество обучающих и тестовых данных\n",
    "- постройте круговую диаграмму, показывающую долю каждого класса в обучающих данных"
   ]
  },
  {
   "cell_type": "code",
   "execution_count": 130,
   "metadata": {},
   "outputs": [],
   "source": [
    "df = pd.merge(data, label_names, on='label_id', how='inner', sort=False) \n",
    "df.drop(['label_id'], axis=1, inplace=True)  # == del df['number']\n"
   ]
  },
  {
   "cell_type": "code",
   "execution_count": 131,
   "metadata": {},
   "outputs": [
    {
     "data": {
      "text/html": [
       "<div>\n",
       "<style scoped>\n",
       "    .dataframe tbody tr th:only-of-type {\n",
       "        vertical-align: middle;\n",
       "    }\n",
       "\n",
       "    .dataframe tbody tr th {\n",
       "        vertical-align: top;\n",
       "    }\n",
       "\n",
       "    .dataframe thead th {\n",
       "        text-align: right;\n",
       "    }\n",
       "</style>\n",
       "<table border=\"1\" class=\"dataframe\">\n",
       "  <thead>\n",
       "    <tr style=\"text-align: right;\">\n",
       "      <th></th>\n",
       "      <th>text</th>\n",
       "      <th>is_train</th>\n",
       "      <th>label_name</th>\n",
       "    </tr>\n",
       "  </thead>\n",
       "  <tbody>\n",
       "    <tr>\n",
       "      <th>0</th>\n",
       "      <td>From: lerxst@wam.umd.edu (where's my thing)\\nS...</td>\n",
       "      <td>True</td>\n",
       "      <td>rec.autos</td>\n",
       "    </tr>\n",
       "    <tr>\n",
       "      <th>1</th>\n",
       "      <td>From: CPKJP@vm.cc.latech.edu (Kevin Parker)\\nS...</td>\n",
       "      <td>True</td>\n",
       "      <td>rec.autos</td>\n",
       "    </tr>\n",
       "    <tr>\n",
       "      <th>2</th>\n",
       "      <td>From: jimf@centerline.com (Jim Frost)\\nSubject...</td>\n",
       "      <td>True</td>\n",
       "      <td>rec.autos</td>\n",
       "    </tr>\n",
       "    <tr>\n",
       "      <th>3</th>\n",
       "      <td>From: eliot@lanmola.engr.washington.edu (eliot...</td>\n",
       "      <td>True</td>\n",
       "      <td>rec.autos</td>\n",
       "    </tr>\n",
       "    <tr>\n",
       "      <th>4</th>\n",
       "      <td>From: sjp@hpuerca.atl.hp.com (Steve Phillips)\\...</td>\n",
       "      <td>True</td>\n",
       "      <td>rec.autos</td>\n",
       "    </tr>\n",
       "  </tbody>\n",
       "</table>\n",
       "</div>"
      ],
      "text/plain": [
       "                                                text  is_train label_name\n",
       "0  From: lerxst@wam.umd.edu (where's my thing)\\nS...      True  rec.autos\n",
       "1  From: CPKJP@vm.cc.latech.edu (Kevin Parker)\\nS...      True  rec.autos\n",
       "2  From: jimf@centerline.com (Jim Frost)\\nSubject...      True  rec.autos\n",
       "3  From: eliot@lanmola.engr.washington.edu (eliot...      True  rec.autos\n",
       "4  From: sjp@hpuerca.atl.hp.com (Steve Phillips)\\...      True  rec.autos"
      ]
     },
     "execution_count": 131,
     "metadata": {},
     "output_type": "execute_result"
    }
   ],
   "source": [
    "df.head()"
   ]
  },
  {
   "cell_type": "markdown",
   "metadata": {},
   "source": [
    "__Задание 5 (2 балла):__ Каждый объект представляет собой текст. Чаще всего тексты предобрабатывают перед тем, как пытаться выделять из них признаки. Опишите функцию `preprocess`, которая получает на вход сырой текст и возвращает предобработанный. Примените эту функцию к элементу `text` каждого объекта и результат запишите в столбец `pp_text` (далее под текстом подразумевается именно содержимое этого столбца). За пределами `preprocess` циклами пользоваться запрещено (т.е. предобработка должна применяться средствами DataFrame). Функция должна выполнять следующий набор операций:\n",
    "\n",
    "- привести текст к нижнему регистру\n",
    "- заменить все символы '\\n', '\\t' и '\\r' на пробелы\n",
    "- заменить в тексте все символы, не являющиеся английскими буквами, на пробелы\n",
    "- сделать split текста по пробелам, удалив все пустые слова\n",
    "- вернуть получившийся список слов\n",
    "\n",
    "Для ускорения `preprocess` может использовать внешние переменные, например, скомпилированные регулярные выражения."
   ]
  },
  {
   "cell_type": "code",
   "execution_count": 166,
   "metadata": {},
   "outputs": [],
   "source": [
    "import re\n",
    "def preprocess(text):\n",
    "    text = text.lower()  # Привести текст к нижнему регистру\n",
    "    text = re.sub(r'[\\n\\t\\r]', ' ', text)  # Заменить символы '\\n', '\\t' и '\\r' на пробелы\n",
    "    text = re.sub(r'[^a-zA-Z]', ' ', text)  # Заменить все символы, не являющиеся английскими буквами, на пробелы\n",
    "    words = filter(None, text.split(' '))  # Разделить текст по пробелам и удалить все пустые слова\n",
    "    return list(words)  # Вернуть получившийся список слов\n",
    "\n",
    "\n",
    "def task_5():\n",
    "    df['pp_text'] = df['text'].apply(preprocess)\n"
   ]
  },
  {
   "cell_type": "code",
   "execution_count": 167,
   "metadata": {},
   "outputs": [
    {
     "data": {
      "text/html": [
       "<div>\n",
       "<style scoped>\n",
       "    .dataframe tbody tr th:only-of-type {\n",
       "        vertical-align: middle;\n",
       "    }\n",
       "\n",
       "    .dataframe tbody tr th {\n",
       "        vertical-align: top;\n",
       "    }\n",
       "\n",
       "    .dataframe thead th {\n",
       "        text-align: right;\n",
       "    }\n",
       "</style>\n",
       "<table border=\"1\" class=\"dataframe\">\n",
       "  <thead>\n",
       "    <tr style=\"text-align: right;\">\n",
       "      <th></th>\n",
       "      <th>text</th>\n",
       "      <th>is_train</th>\n",
       "      <th>label_name</th>\n",
       "      <th>pp_text</th>\n",
       "    </tr>\n",
       "  </thead>\n",
       "  <tbody>\n",
       "    <tr>\n",
       "      <th>0</th>\n",
       "      <td>From: lerxst@wam.umd.edu (where's my thing)\\nS...</td>\n",
       "      <td>True</td>\n",
       "      <td>rec.autos</td>\n",
       "      <td>[from, lerxst, wam, umd, edu, where, s, my, th...</td>\n",
       "    </tr>\n",
       "    <tr>\n",
       "      <th>1</th>\n",
       "      <td>From: CPKJP@vm.cc.latech.edu (Kevin Parker)\\nS...</td>\n",
       "      <td>True</td>\n",
       "      <td>rec.autos</td>\n",
       "      <td>[from, cpkjp, vm, cc, latech, edu, kevin, park...</td>\n",
       "    </tr>\n",
       "    <tr>\n",
       "      <th>2</th>\n",
       "      <td>From: jimf@centerline.com (Jim Frost)\\nSubject...</td>\n",
       "      <td>True</td>\n",
       "      <td>rec.autos</td>\n",
       "      <td>[from, jimf, centerline, com, jim, frost, subj...</td>\n",
       "    </tr>\n",
       "    <tr>\n",
       "      <th>3</th>\n",
       "      <td>From: eliot@lanmola.engr.washington.edu (eliot...</td>\n",
       "      <td>True</td>\n",
       "      <td>rec.autos</td>\n",
       "      <td>[from, eliot, lanmola, engr, washington, edu, ...</td>\n",
       "    </tr>\n",
       "    <tr>\n",
       "      <th>4</th>\n",
       "      <td>From: sjp@hpuerca.atl.hp.com (Steve Phillips)\\...</td>\n",
       "      <td>True</td>\n",
       "      <td>rec.autos</td>\n",
       "      <td>[from, sjp, hpuerca, atl, hp, com, steve, phil...</td>\n",
       "    </tr>\n",
       "  </tbody>\n",
       "</table>\n",
       "</div>"
      ],
      "text/plain": [
       "                                                text  is_train label_name  \\\n",
       "0  From: lerxst@wam.umd.edu (where's my thing)\\nS...      True  rec.autos   \n",
       "1  From: CPKJP@vm.cc.latech.edu (Kevin Parker)\\nS...      True  rec.autos   \n",
       "2  From: jimf@centerline.com (Jim Frost)\\nSubject...      True  rec.autos   \n",
       "3  From: eliot@lanmola.engr.washington.edu (eliot...      True  rec.autos   \n",
       "4  From: sjp@hpuerca.atl.hp.com (Steve Phillips)\\...      True  rec.autos   \n",
       "\n",
       "                                             pp_text  \n",
       "0  [from, lerxst, wam, umd, edu, where, s, my, th...  \n",
       "1  [from, cpkjp, vm, cc, latech, edu, kevin, park...  \n",
       "2  [from, jimf, centerline, com, jim, frost, subj...  \n",
       "3  [from, eliot, lanmola, engr, washington, edu, ...  \n",
       "4  [from, sjp, hpuerca, atl, hp, com, steve, phil...  "
      ]
     },
     "execution_count": 167,
     "metadata": {},
     "output_type": "execute_result"
    }
   ],
   "source": [
    "task_5()\n",
    "df.head()"
   ]
  },
  {
   "cell_type": "markdown",
   "metadata": {},
   "source": [
    "__Задание 6 (2 балла):__ Каждое уникальное слово текста представляет собой признак. Посчитайте, сколько в обучающих текстах есть уникальных слов, отобразите график (plot) частот встречаемости слов в обучающей коллекции, \n",
    "отсортировав слова по убыванию частоты встречаемости (по оси X идут все слова из словаря коллекции в порядке убывания частоты встречаемости, по оси Y указываются значения частот).\n",
    "\n",
    "Для уменьшения признакового пространства словарь фильтруют. Удалите из словаря\n",
    "\n",
    "- все слова, встречающиеся более 9000-х раз\n",
    "- все слова, встречающиеся менее 3-х раз\n",
    "- все слова длиной менее 3 символов\n",
    "- все слова длиной более 20 символов\n",
    "- все слова, состоящие из одного и того же символа\n",
    "\n",
    "Профильтруйте обучающую коллекцию по новому словарю и снова посчитайте число уникальных слов в словаре и снова постройте гистограмму частот."
   ]
  },
  {
   "cell_type": "code",
   "execution_count": 247,
   "metadata": {},
   "outputs": [],
   "source": [
    "from collections import Counter\n",
    "import matplotlib.pyplot as plt\n",
    "\n",
    "text = []\n",
    "for t in df['pp_text']:\n",
    "    text += t\n",
    "vocabulary = Counter(text)\n",
    "#print(vocabulary)\n"
   ]
  },
  {
   "cell_type": "code",
   "execution_count": 248,
   "metadata": {},
   "outputs": [],
   "source": [
    "def task_6():\n",
    "    # Фильтруем словарь\n",
    "    filtered_vocabulary = {word: count for word, count in vocabulary.items()\n",
    "                           if 3 <= len(word) <= 20 and count <= 9000 and count >= 3 and len(set(word)) > 1}\n",
    "\n",
    "    # Строим гистограмму частот встречаемости слов\n",
    "    words, counts = zip(*sorted(filtered_vocabulary.items(), key=lambda x: x[1], reverse=True))\n",
    "    return words, counts\n",
    "words, counts = task_6()\n"
   ]
  },
  {
   "cell_type": "code",
   "execution_count": 249,
   "metadata": {},
   "outputs": [],
   "source": [
    "words1 = words[:200]\n",
    "counts1 = counts[:200]"
   ]
  },
  {
   "cell_type": "code",
   "execution_count": 250,
   "metadata": {},
   "outputs": [],
   "source": [
    "import matplotlib.pyplot as plt\n",
    "from matplotlib import ticker\n",
    "import matplotlib.gridspec as gridspec\n",
    "from matplotlib import style\n",
    "import seaborn as sns\n"
   ]
  },
  {
   "cell_type": "code",
   "execution_count": 264,
   "metadata": {},
   "outputs": [
    {
     "data": {
      "image/png": "[encoded data removed]",
      "text/plain": [
       "<Figure size 432x288 with 1 Axes>"
      ]
     },
     "metadata": {},
     "output_type": "display_data"
    }
   ],
   "source": [
    "ticks = 30  # Set the interval for x-axis ticks\n",
    "plt.bar(range(len(counts1)), counts1, align='center')\n",
    "plt.xticks(range(0, len(words1), ticks), words1[::ticks])\n",
    "#plt.ylim(0, 700)\n",
    "plt.xlabel('Words')\n",
    "plt.ylabel('Number of words')\n",
    "plt.title('title')\n",
    "plt.show()"
   ]
  },
  {
   "cell_type": "markdown",
   "metadata": {},
   "source": [
    "__Задание 7 (1.5 балла):__ Для построения моделей данные нужно перевести в числовой вид. Для этого воспользуйтесь представлением \"мешка слов\", в котором признаками являются слова, а значениями - частоты их встречаемости в документе. Построить представление мешка слов можно с помощью класса CountVectorizer из sklearn. Подготовьте векторизатор, подав ему обучающие текстовые данные из `data` (приведите тексты к формату входа векторизатора) и полученный выше словарь.\n",
    "\n",
    "Примените полученный векторизатор к обучающим и тестовым данным, на выходе должны получиться два numpy array (первая размерность - число объектов, вторая - число слов в словаре)."
   ]
  },
  {
   "cell_type": "code",
   "execution_count": null,
   "metadata": {},
   "outputs": [],
   "source": [
    "from sklearn.feature_extraction.text import CountVectorizer\n",
    "\n",
    "def task_7():\n",
    "    # vectorizer = ...\n",
    "    pass\n",
    "\n",
    "    # assert len(vectorizer.vocabulary_) == len(vocabulary)"
   ]
  },
  {
   "cell_type": "markdown",
   "metadata": {},
   "source": [
    "__Задание 8 (1.5 балла):__ Модель логистической регрессии хорошо работает для простых задач классификации текстов, примените её к полученным данным. Для этого настройте модель на обучающих данных, сделайте предсказание для тестовых и измерьте качество с помощью метрик accuracy и F1-score с микро- и макро-усреднением. Попробуйте подобрать оптимальное значение коэффициента регуляризации С с помощью GridSearchCV."
   ]
  },
  {
   "cell_type": "code",
   "execution_count": null,
   "metadata": {},
   "outputs": [],
   "source": [
    "from sklearn.linear_model import LogisticRegression\n",
    "from sklearn.metrics import accuracy_score, f1_score\n",
    "from sklearn.model_selection import GridSearchCV\n",
    "\n",
    "def task_8():\n",
    "    # vectorizer = ...\n",
    "    pass\n",
    "\n",
    "    # assert len(vectorizer) == len(vocabulary)"
   ]
  },
  {
   "cell_type": "markdown",
   "metadata": {},
   "source": [
    "__Задание 9 (1.5 балл):__ Ошибки классификации удобно анализировать с помощью матрицы ошибок. Сделав предсказание на тесте постройте и визуализируйте эту матрицу с помощью функции plot_confusion_matrix в двух вариантах: с абсолютными и относительными (нормированными) значеними. Определите классы, которые чаще всего путаются между собой."
   ]
  },
  {
   "cell_type": "code",
   "execution_count": null,
   "metadata": {},
   "outputs": [],
   "source": [
    "from sklearn.metrics import plot_confusion_matrix\n",
    "\n",
    "def task_9():\n",
    "    pass"
   ]
  },
  {
   "cell_type": "markdown",
   "metadata": {},
   "source": [
    "__Задание 10 (2.5 балла):__ Установите библиотеку XGBoost и обучите модель градиентного бустинга для решения поставленной задачи классификации. Попробуйте подобрать оптимальную модель, выбрав 2-3 важных параметра обучения. Укажите, какие параметры в большей, а какие - в меньшей степени оказали влияние на итоговое качество модели."
   ]
  },
  {
   "cell_type": "code",
   "execution_count": null,
   "metadata": {},
   "outputs": [],
   "source": [
    "from xgboost import XGBClassifier\n",
    "\n",
    "def task_10():\n",
    "    pass"
   ]
  },
  {
   "cell_type": "markdown",
   "metadata": {},
   "source": [
    "__Задание 11 (3 балла):__ Часто в обработке текстов возникает задача выделения тем, обсуждаемых в них. Одним из способов решения это задачи является кластеризация графа совстречаемостей слов. Для текстов, находящихся в поле `pp_text` постройте словарь \"слово\" в \"слово\" в \"счетчик совстречаемости\", для слова A и B достаточно хранить A -> B -> counter, хранить B -> A -> counter не нужно. Счетчик увеличивается на 1, если пара слов встретилась в одном тексте внутри окна с длиной 10 слов."
   ]
  },
  {
   "cell_type": "code",
   "execution_count": null,
   "metadata": {},
   "outputs": [],
   "source": [
    "def task_11():\n",
    "    pass"
   ]
  },
  {
   "cell_type": "markdown",
   "metadata": {},
   "source": [
    "__Задание 12 (3 балла):__ Приняв каждое слово за вершину, а ребра между ними - за наличие совместной встречаемости, постройте граф совстречаемостей. Все ребра равнозначны, ребро добавляется между словами, если значение счетчика совместной встречамости этих слов выше заданного порога T. Примените к получившему графу алгоритм выделения сообществ greedy_modularity_communities из библиотеки NetworkX и напечайте получившиеся вообщества. Можно ли их как-то интерпретировать?\n",
    "\n",
    "Пробуйте варьировать значение T от 70 до 120 и удалять слишком большие (и потому заведомо бесполезные) сообщества и сообщества из 1 слова."
   ]
  },
  {
   "cell_type": "code",
   "execution_count": null,
   "metadata": {},
   "outputs": [],
   "source": [
    "from networkx import Graph\n",
    "from networkx.algorithms import community\n",
    "\n",
    "def task_12():\n",
    "    # community.greedy_modularity_communities(...)\n",
    "    pass"
   ]
  }
 ],
 "metadata": {
  "kernelspec": {
   "display_name": "Python 3 (ipykernel)",
   "language": "python",
   "name": "python3"
  },
  "language_info": {
   "codemirror_mode": {
    "name": "ipython",
    "version": 3
   },
   "file_extension": ".py",
   "mimetype": "text/x-python",
   "name": "python",
   "nbconvert_exporter": "python",
   "pygments_lexer": "ipython3",
   "version": "3.8.0"
  }
 },
 "nbformat": 4,
 "nbformat_minor": 2
}
