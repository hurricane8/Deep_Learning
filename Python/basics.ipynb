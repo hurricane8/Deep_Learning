{
 "cells": [
  {
   "cell_type": "markdown",
   "metadata": {},
   "source": [
    "### Topic: Intro to Python\n",
    "\n",
    "#### Lecturer: Murat Apishev (mel-lain@yandex.ru)\n",
    "Labs were taken from his github and his Python Programming Workshop course"
   ]
  },
  {
   "cell_type": "markdown",
   "metadata": {},
   "source": [
    "#### Problem Statement:\n",
    "\n",
    "- In this paper, we need to solve a set of tasks that test mastery of the basic tools of the language.\n",
    "- Each task is a writing of one or more functions and a set of tests that check the work of this function in common and extreme cases.\n",
    "- Absence of tests automatically reduces the number of points for the task by at least two times, poor quality tests will also be penalized.\n",
    "- If the assignment specifies the use of several different solution options, it implies the use of different tools (loops, list inclusions, generators, built-in functions, functions of standard library modules, etc.), replacing, for example, a for loop with a while loop is not a different solution option.\n",
    "- Even if it is not explicitly stated in the requirements, the code should be as unredundant as possible, work with reasonable complexity and memory consumption, the examiners may reduce the score for a task executed without taking this requirement into account.\n",
    "- The resulting code must be readable, with a uniform indentation system and appropriate variable names, the reviewers may reduce the score for an assignment not meeting this requirement."
   ]
  },
  {
   "cell_type": "markdown",
   "metadata": {},
   "source": [
    "__Задание 1 (0.5 очков):__ Дано натуральное число. Требуется определить, является ли год с данным номером високосным. Если год является високосным, то выведите YES, иначе выведите NO. Напомним, что в соответствии с григорианским календарем, год является високосным, если его номер кратен 4, но не кратен 100, а также если он кратен 400."
   ]
  },
  {
   "cell_type": "code",
   "execution_count": 15,
   "metadata": {},
   "outputs": [],
   "source": [
    "def task_01_func(year):\n",
    "    print ('YES' if (((year % 4 == 0) and (year % 100 != 0)) or (year % 400 == 0)) else 'NO')"
   ]
  },
  {
   "cell_type": "code",
   "execution_count": 20,
   "metadata": {},
   "outputs": [
    {
     "name": "stdout",
     "output_type": "stream",
     "text": [
      "NO\n"
     ]
    }
   ],
   "source": [
    "task_01_func(1000)"
   ]
  },
  {
   "cell_type": "markdown",
   "metadata": {},
   "source": [
    "__Задание 2 (0.5 очков):__ Дано натуральное число, найдите количество цифр в его десятичном представлении. Приведите не менее двух различных решений."
   ]
  },
  {
   "cell_type": "code",
   "execution_count": 21,
   "metadata": {},
   "outputs": [],
   "source": [
    "def task_02_func(number):\n",
    "    print(len(str(number)))\n",
    "    schet = 0\n",
    "    while (number > 0):\n",
    "        number = number // 10\n",
    "        schet += 1\n",
    "    print(schet)"
   ]
  },
  {
   "cell_type": "code",
   "execution_count": 22,
   "metadata": {},
   "outputs": [
    {
     "name": "stdout",
     "output_type": "stream",
     "text": [
      "4\n",
      "4\n"
     ]
    }
   ],
   "source": [
    "task_02_func(1052)"
   ]
  },
  {
   "cell_type": "markdown",
   "metadata": {},
   "source": [
    "__Задание 3 (0.5 балла):__ По данному натуральном n вычислите сумму 1!+2!+3!+...+n!. В решении этой задачи с помощью циклов можно использовать только один цикл. Предложите как минимум два различных решения."
   ]
  },
  {
   "cell_type": "code",
   "execution_count": 25,
   "metadata": {},
   "outputs": [],
   "source": [
    "def task_03_func(n):\n",
    "    summa = 1\n",
    "    fact = 1\n",
    "    for i in range(2, n):\n",
    "        fact *= i\n",
    "        summa += fact\n",
    "    print(summa)\n",
    "    "
   ]
  },
  {
   "cell_type": "code",
   "execution_count": 26,
   "metadata": {},
   "outputs": [
    {
     "name": "stdout",
     "output_type": "stream",
     "text": [
      "4037913\n"
     ]
    }
   ],
   "source": [
    "task_03_func(11)"
   ]
  },
  {
   "cell_type": "markdown",
   "metadata": {},
   "source": [
    "__Задание 4 (0.5 балла):__ Определить, является ли введённая строка палиндромом (то есть одинаково читается с обеих сторон). Предложите как минимум три различных решения."
   ]
  },
  {
   "cell_type": "code",
   "execution_count": 51,
   "metadata": {},
   "outputs": [],
   "source": [
    "def task_04_func(s):\n",
    "    print(s == s[::-1])\n",
    "    lst = list(s)\n",
    "    lst1 = lst\n",
    "    lst2 = lst\n",
    "    lst1.reverse()\n",
    "    print(lst == lst1)\n",
    "    lst2.sort(reverse=True)\n",
    "    print(lst == lst2)"
   ]
  },
  {
   "cell_type": "code",
   "execution_count": 52,
   "metadata": {},
   "outputs": [
    {
     "name": "stdout",
     "output_type": "stream",
     "text": [
      "True\n",
      "True\n",
      "True\n"
     ]
    }
   ],
   "source": [
    "task_04_func('qweewq')"
   ]
  },
  {
   "cell_type": "markdown",
   "metadata": {},
   "source": [
    "__Задание 5 (1 балл):__ Дан текст в виде строки. Напишите функцию, которая возвращает словарь, где ключами являются уникальные слова из этого текста, а значениями - число раз, которое данное слово встретилось в тексте. Считать, что слова разделяются пробелами. Предложите как минимум два различных решения."
   ]
  },
  {
   "cell_type": "code",
   "execution_count": 130,
   "metadata": {},
   "outputs": [],
   "source": [
    "import string\n",
    "\n",
    "def remove_punctuation_and_apostrophes(text):\n",
    "    translation_table = str.maketrans('', '', string.punctuation + \"'\")\n",
    "    cleaned_text = text.translate(translation_table)  \n",
    "    return cleaned_text\n",
    "\n",
    "def task_05_func(text):\n",
    "    text = remove_punctuation_and_apostrophes(text)\n",
    "    text = text.lower().split()\n",
    "    for word_num in range(len(text)):\n",
    "        if (text[word_num] == 'i'): \n",
    "            text[word_num] = 'I' \n",
    "    d = {}\n",
    "    for word in text:\n",
    "        if word in d:\n",
    "            d[word] += 1\n",
    "        else:\n",
    "            d[word] = 1\n",
    "    print(d)\n",
    "    \n",
    "\n",
    "from collections import defaultdict\n",
    "\n",
    "def task_05_func2(text):\n",
    "    word_count = defaultdict(int)\n",
    "    text = remove_punctuation_and_apostrophes(text)\n",
    "    text = text.lower().split()\n",
    "    for word_num in range(len(text)):\n",
    "        if (text[word_num] == 'i'): \n",
    "            text[word_num] = 'I' \n",
    "    for word in text:\n",
    "        word_count[word] += 1\n",
    "    print(dict(word_count))\n",
    "\n",
    "from collections import Counter\n",
    "\n",
    "def task_05_func3(text):\n",
    "    word_count = defaultdict(int)\n",
    "    text = remove_punctuation_and_apostrophes(text)\n",
    "    text = text.lower().split()\n",
    "    for k, v in Counter(text).items():\n",
    "        print(f'({k}: {v}) ', end='')  # print can end not only with '\\n'"
   ]
  },
  {
   "cell_type": "code",
   "execution_count": 131,
   "metadata": {},
   "outputs": [
    {
     "name": "stdout",
     "output_type": "stream",
     "text": [
      "(my: 4) (mistress: 3) (eyes: 1) (are: 2) (nothing: 1) (like: 1) (the: 3) (sun: 1) (coral: 1) (is: 2) (far: 2) (more: 3) (red: 3) (than: 2) (her: 5) (lips: 1) (if: 2) (snow: 1) (be: 2) (white: 2) (why: 1) (then: 1) (breasts: 1) (dun: 1) (hairs: 1) (wires: 2) (black: 1) (grow: 1) (on: 2) (head: 1) (i: 7) (have: 1) (seen: 1) (roses: 2) (damasked: 1) (and: 3) (but: 1) (no: 1) (such: 1) (see: 1) (in: 3) (cheeks: 1) (some: 1) (perfumes: 1) (there: 1) (delight: 1) (breath: 1) (that: 2) (from: 1) (reeks: 1) (love: 2) (to: 1) (hear: 1) (speak: 1) (yet: 2) (well: 1) (know: 1) (music: 1) (hath: 1) (a: 2) (pleasing: 1) (sound: 1) (grant: 1) (never: 1) (saw: 1) (goddess: 1) (go: 1) (when: 1) (she: 2) (walks: 1) (treads: 1) (ground: 1) (by: 1) (heaven: 1) (think: 1) (as: 2) (rare: 1) (any: 1) (belied: 1) (with: 1) (false: 1) (compare: 1) "
     ]
    }
   ],
   "source": [
    "text1 = \"My mistress' eyes are nothing like the sun; Coral is far more red than her lips' red; If snow be white, why then her breasts are dun; If hairs be wires, black wires grow on her head. I have seen roses damasked, red and white, But no such roses see I in her cheeks; And in some perfumes is there more delight Than in the breath that from my mistress reeks. I love to hear her speak, yet well I know That music hath a far more pleasing sound; I grant I never saw a goddess go; My mistress, when she walks, treads on the ground. And yet, by heaven, I think my love as rare As any she belied with false compare.\"\n",
    "task_05_func3(text1)"
   ]
  },
  {
   "cell_type": "markdown",
   "metadata": {},
   "source": [
    "__Задание 6 (1 балл):__ Напишите функцию, которая принимает на вход строку и символ и возвращает:\n",
    "\n",
    "- если символ встретился в строке один раз - кортеж (индекс вхождения, None);\n",
    "- если два и более раз - кортеж (индекс первого вхождения, индекс последнего вхождения);\n",
    "- если ни разу - кортеж (None, None).\n",
    "\n",
    "Запрещается делать более одного прохода по каждому элементу строки."
   ]
  },
  {
   "cell_type": "code",
   "execution_count": 135,
   "metadata": {},
   "outputs": [],
   "source": [
    "def task_06_func(input_str, input_char):\n",
    "    first_index = None\n",
    "    last_index = None\n",
    "\n",
    "    for i in range(len(input_str)):\n",
    "        if input_str[i] == input_char:\n",
    "            if first_index is None:\n",
    "                first_index = i\n",
    "            last_index = i\n",
    "\n",
    "    if first_index is not None:\n",
    "        if first_index == last_index:\n",
    "            return (first_index, None)  # Character appeared only once\n",
    "        else:\n",
    "            return (first_index, last_index)  # Character appeared more than once\n",
    "    else:\n",
    "        return (None, None)  # Character did not appear\n",
    "    \n",
    "    \n",
    "def task_06_func2(input_str, input_char):\n",
    "    first_index = input_str.find(input_char)\n",
    "    last_index = input_str.rfind(input_char)\n",
    "    if first_index is not None:\n",
    "        if first_index == last_index:\n",
    "            return (first_index, None)  # Character appeared only once\n",
    "        else:\n",
    "            return (first_index, last_index)  # Character appeared more than once\n",
    "    else:\n",
    "        return (None, None)  # Character did not appear\n",
    "    "
   ]
  },
  {
   "cell_type": "code",
   "execution_count": 136,
   "metadata": {},
   "outputs": [
    {
     "name": "stdout",
     "output_type": "stream",
     "text": [
      "(2, 10)\n"
     ]
    }
   ],
   "source": [
    "input_str = \"Hello, world!\"\n",
    "character = \"l\"\n",
    "result = task_06_func2(input_str, character)\n",
    "print(result)"
   ]
  },
  {
   "cell_type": "markdown",
   "metadata": {},
   "source": [
    "__Assignment 7 (1 point):__ Дан список целых чисел. Напишите функцию, которая возвращает копию этого списка с удаленными отрицательными числами и возведенными в квадрат остальными числами. Кроме того, возвращаемая последовательность должна быть отсортирована по убыванию. "
   ]
  },
  {
   "cell_type": "code",
   "execution_count": 153,
   "metadata": {},
   "outputs": [],
   "source": [
    "def task_07_func(lst):\n",
    "    lst1 = list(map(lambda x: x**2 if x > 0 else -1 , lst))\n",
    "    i = 0\n",
    "    while i < len(lst1):\n",
    "        if lst1[i] == -1:\n",
    "            lst1.pop(i)\n",
    "        else: \n",
    "            i += 1\n",
    "    return lst1"
   ]
  },
  {
   "cell_type": "code",
   "execution_count": 154,
   "metadata": {},
   "outputs": [
    {
     "name": "stdout",
     "output_type": "stream",
     "text": [
      "[4, 9, 25]\n"
     ]
    }
   ],
   "source": [
    "input_lst = [-1, 2, 3, -4, 5]\n",
    "result = task_07_func(input_lst)\n",
    "print(result)"
   ]
  },
  {
   "cell_type": "markdown",
   "metadata": {},
   "source": [
    "__Задание 8 (1 балл):__ Напишите функцию, которая принимает на вход список кортежей одинаковой длины и индекс `index` элемента в кортеже и возвращает генератор, итерирование по которому позволит получит все кортежи входного списка, отсортированные по убыванию элементов этих кортежей с индексом `index`."
   ]
  },
  {
   "cell_type": "code",
   "execution_count": 159,
   "metadata": {},
   "outputs": [
    {
     "name": "stdout",
     "output_type": "stream",
     "text": [
      "(6, 4, 9)\n",
      "(1, 5, 8)\n",
      "(3, 7, 2)\n"
     ]
    }
   ],
   "source": [
    "def task_08_func(lst, index):\n",
    "    special_machine = (box for box in sorted(lst, key=lambda x: x[index], reverse=True))\n",
    "    return special_machine\n",
    "\n",
    "input_list = [(3, 7, 2), (1, 5, 8), (6, 4, 9)]\n",
    "index = 2\n",
    "result_generator = task_08_func(input_list, index)\n",
    "\n",
    "# Iterate through the generator to obtain the sorted tuples\n",
    "for t in result_generator:\n",
    "    print(t)\n"
   ]
  },
  {
   "cell_type": "markdown",
   "metadata": {},
   "source": [
    "__Задание 9 (1 балл):__ Напишите функцию, которая получает на вход натуральное число `n` и выводит первые `n` строк треугольника Паскаля."
   ]
  },
  {
   "cell_type": "code",
   "execution_count": 162,
   "metadata": {},
   "outputs": [
    {
     "name": "stdout",
     "output_type": "stream",
     "text": [
      "1\n",
      "1 1\n",
      "1 2 1\n",
      "1 3 3 1\n",
      "1 4 6 4 1\n",
      "1 5 10 10 5 1\n",
      "1 6 15 20 15 6 1\n",
      "1 7 21 35 35 21 7 1\n",
      "1 8 28 56 70 56 28 8 1\n"
     ]
    }
   ],
   "source": [
    "def task_09_func(n):\n",
    "    pascals_triangle = []\n",
    "    for i in range(n):\n",
    "        row = [1] * (i+1)\n",
    "        if i > 1:\n",
    "            for j in range(1, i):\n",
    "                row[j] = pascals_triangle[i-1][j-1] + pascals_triangle[i-1][j]\n",
    "        pascals_triangle.append(row)\n",
    "    for row in triangle:\n",
    "        print(' '.join(map(str, row)))\n",
    "    return pascals_triangle\n",
    "\n",
    "n = 9\n",
    "triangle = task_09_func(n)"
   ]
  },
  {
   "cell_type": "markdown",
   "metadata": {},
   "source": [
    "__Задание 10 (1 балл):__ Напишите функцию, которая принимает на вход абсолютный путь к директории и две строки с расширениями файлов. В результате её выполнения у всех файлов в указанной директории, имеющих первое расширение, расширение должно измениться на второе. В конце работы функция должна возвращать кортеж из двух элементов:\n",
    "\n",
    "1. сколько всего в директории файлов (именно файлов, не директорий);\n",
    "2. у скольки из них расширение было изменено.\n",
    "\n",
    "Допускается только один проход по каждому файлу из указанной директории."
   ]
  },
  {
   "cell_type": "code",
   "execution_count": 165,
   "metadata": {},
   "outputs": [
    {
     "name": "stdout",
     "output_type": "stream",
     "text": [
      "(0, 0)\n"
     ]
    }
   ],
   "source": [
    "import os\n",
    "def task_10_func(dir_path, prev_extension, next_extension):\n",
    "    total_files = 0\n",
    "    extension_changed_count = 0\n",
    "\n",
    "    for root, _, files in os.walk(dir_path):\n",
    "        for file in files:\n",
    "            if file.endswith(prev_extension):\n",
    "                total_files += 1\n",
    "                old_file_path = os.path.join(root, file)\n",
    "                new_file_path = os.path.join(root, file.rsplit('.', 1)[0] + '.' + next_extension)\n",
    "                os.rename(old_file_path, new_file_path)\n",
    "                if os.path.exists(new_file_path):\n",
    "                    extension_changed_count += 1\n",
    "\n",
    "    return total_files, extension_changed_count\n",
    "\n",
    "directory_path = ''\n",
    "first_extension = 'jpg'\n",
    "second_extension = 'png'\n",
    "result = task_10_func(directory_path, first_extension, second_extension)\n",
    "print(result)\n"
   ]
  },
  {
   "cell_type": "markdown",
   "metadata": {},
   "source": [
    "__Задание 11 (1 балл):__ Описать функцию, которая принимает на вход два списка и возвращает список уникальных элементов, которые есть в первом входном списке и отсутствуют во втором. Запрещается использовать циклы и списковые включения/генераторы списков."
   ]
  },
  {
   "cell_type": "code",
   "execution_count": 166,
   "metadata": {},
   "outputs": [
    {
     "name": "stdout",
     "output_type": "stream",
     "text": [
      "[1, 2]\n"
     ]
    }
   ],
   "source": [
    "def task_11_func(first_list, second_list):\n",
    "    unique_set1 = set(first_list)\n",
    "    unique_set2 = set(second_list)\n",
    "    unique_result_set = unique_set1 - unique_set2\n",
    "    return list(unique_result_set)\n",
    "\n",
    "list1 = [1, 2, 3, 4, 5]\n",
    "list2 = [3, 4, 5, 6, 7]\n",
    "result = task_11_func(list1, list2)\n",
    "print(result)\n"
   ]
  },
  {
   "cell_type": "markdown",
   "metadata": {},
   "source": [
    "__Задание 12 (1 балл):__ Напишите функцию, которая получает на вход путь к файлу, в котором в каждой строке записано одно вещественное число, а также путь к выходному файлу. Функция должна прочитать содержимое файла, игнорировать строки с нечётными индексами, а строки с чётными индексами должна увеличить на минимальное из чисел, содержащихся в этом файле. Полученные числа нужно записать в выходной файл с точностью 5 знаков после запятой.\n",
    "\n",
    "Требуется сделать не более двух проходов по входному файлу, расход памяти на протяжении работы должен быть O(1) (то есть никак не зависеть от числа строк во входном файле)."
   ]
  },
  {
   "cell_type": "code",
   "execution_count": 168,
   "metadata": {},
   "outputs": [],
   "source": [
    "def task_12_func(input_path, output_path):\n",
    "    min_number = float('inf')\n",
    "    with open(input_path, 'r') as input_file:\n",
    "        with open(output_path, 'w') as output_file:\n",
    "            for index, line in enumerate(input_file):\n",
    "                if index % 2 == 1:  # Ignore odd-indexed lines\n",
    "                    continue\n",
    "                number = float(line.strip())\n",
    "                if number < min_number:\n",
    "                    min_number = number\n",
    "            input_file.seek(0)  # Reset file pointer to the beginning\n",
    "            for index, line in enumerate(input_file):\n",
    "                if index % 2 == 0:  # Process even-indexed lines\n",
    "                    number = float(line.strip()) + min_number\n",
    "                    output_file.write(f'{number:.5f}\\n')\n",
    "\n",
    "task_12_func('input.txt', 'output.txt')\n",
    "                  "
   ]
  },
  {
   "cell_type": "markdown",
   "metadata": {},
   "source": [
    "__Задание 13 (1 балл):__ Написать функцию, которая принимает на вход число `n`, которое может быть либо натуральным, либо -1, и возвращает генератор чисел Фиббоначи. Если входной параметр равен натуральному числу, то генератор должен выдавать последовательно числа Фиббоначи до `n`-го. Если `n` равно -1, то генератор должен быть бесконечным."
   ]
  },
  {
   "cell_type": "code",
   "execution_count": 170,
   "metadata": {},
   "outputs": [
    {
     "name": "stdout",
     "output_type": "stream",
     "text": [
      "0\n",
      "1\n",
      "1\n",
      "2\n",
      "3\n",
      "5\n",
      "8\n",
      "13\n",
      "21\n",
      "34\n",
      "[0, 1, 1, 2, 3, 5, 8, 13, 21, 34]\n"
     ]
    }
   ],
   "source": [
    "def task_13_func(n):\n",
    "    a, b = 0, 1\n",
    "    count = 0\n",
    "    if n == -1:\n",
    "        while True:\n",
    "            yield a\n",
    "            a, b = b, a + b\n",
    "    elif n > 0:\n",
    "        while count < n:\n",
    "            yield a\n",
    "            a, b = b, a + b\n",
    "            count += 1\n",
    "    else:\n",
    "        raise ValueError(\"Input parameter should be a natural number or -1\")\n",
    "\n",
    "# Example usage\n",
    "# Generate Fibonacci numbers up to the 10th number\n",
    "for num in task_13_func(10):\n",
    "    print(num)\n",
    "\n",
    "# Generate the first 10 Fibonacci numbers using a list comprehension\n",
    "first_10_fibonacci = [num for num in task_13_func(10)]\n",
    "print(first_10_fibonacci)\n"
   ]
  },
  {
   "cell_type": "markdown",
   "metadata": {},
   "source": [
    "__Задание 14 (1 балл):__ Написать функцию, которая принимает на вход произвольный объект, проверяет его тип, и для целого числа возвращает список всех магических методов объекта, начинающихся с `__a`, для строк - с `__s`. Для всех прочих типов должен возвращаться список немагических методов. В задании запрещается использовать циклы и списковые включения/генераторы списков."
   ]
  },
  {
   "cell_type": "code",
   "execution_count": 177,
   "metadata": {},
   "outputs": [
    {
     "name": "stdout",
     "output_type": "stream",
     "text": [
      "Special methods for integer: ['__abs__', '__add__', '__and__']\n",
      "Special methods for string: ['__setattr__', '__sizeof__', '__str__', '__subclasshook__']\n",
      "Non-special methods for list: ['append', 'clear', 'copy', 'count', 'extend', 'index', 'insert', 'pop', 'remove', 'reverse', 'sort']\n"
     ]
    }
   ],
   "source": [
    "def task_14_func(n):\n",
    "    obj_type = type(n)\n",
    "    \n",
    "    if obj_type == int:\n",
    "        return [method for method in dir(n) if method.startswith('__a')]\n",
    "    elif obj_type == str:\n",
    "        return [method for method in dir(n) if method.startswith('__s')]\n",
    "    else:\n",
    "        return [method for method in dir(n) if not method.startswith('__')]\n",
    "\n",
    "# Example usage\n",
    "integer_methods = task_14_func(10)\n",
    "print(\"Special methods for integer:\", integer_methods)\n",
    "\n",
    "string_methods = task_14_func(\"hello\")\n",
    "print(\"Special methods for string:\", string_methods)\n",
    "\n",
    "list_methods = task_14_func([1, 2, 3])\n",
    "print(\"Non-special methods for list:\", list_methods)\n"
   ]
  },
  {
   "cell_type": "markdown",
   "metadata": {},
   "source": [
    "__Задание 15 (1.5 балла):__ Написать функцию, которая во входной строке заменяет вхождения всех английских заглавных букв на их номер в таблице ASCII, затем производит сплит по минимальной из цифр строки. Предложите как минимум два различных решения, одно из которых не должно использовать циклы. При использовании циклов допускается не более двух проходов по строке."
   ]
  },
  {
   "cell_type": "code",
   "execution_count": 178,
   "metadata": {},
   "outputs": [],
   "source": [
    "import re\n",
    "\n",
    "def task_15_func(n):\n",
    "    # Replace uppercase letters with their ASCII values\n",
    "    replaced_string = ''.join(str(ord(c)) if c.isupper() else c for c in n)\n",
    "    \n",
    "    # Split the string based on the minimum digit\n",
    "    min_digit = min(int(d) for d in re.findall(r'\\d', replaced_string))\n",
    "    result = re.split(str(min_digit), replaced_string)\n",
    "    \n",
    "    return result\n",
    "\n",
    "\n",
    "def task_15_func2(input_string):\n",
    "    # Replace uppercase letters with their ASCII values using a lambda function and map\n",
    "    replaced_string = ''.join(map(lambda c: str(ord(c)) if c.isupper() else c, input_string))\n",
    "    \n",
    "    # Split the string based on the minimum digit using a lambda function and min\n",
    "    min_digit = min(map(int, re.findall(r'\\d', replaced_string)))\n",
    "    result = re.split(str(min_digit), replaced_string)\n",
    "    \n",
    "    return result\n"
   ]
  },
  {
   "cell_type": "markdown",
   "metadata": {},
   "source": [
    "__Задание 16 (1.5 балла):__ Написать функцию, которая принимает на вход строку и извлекает из неё мобильные телефонные номера с помощью регулярных выражений. Функция должна поддерживать общепринятые варианты написания номера, как со всевозможными разделителями, так и без них (обеспечьте поддержку не менее 10 различных случаев). Возвращаемым значением функции является список всех найденных в строке номеров, если их не было, нужно вернуть пустой список."
   ]
  },
  {
   "cell_type": "code",
   "execution_count": 181,
   "metadata": {},
   "outputs": [
    {
     "name": "stdout",
     "output_type": "stream",
     "text": [
      "['', '', '']\n"
     ]
    }
   ],
   "source": [
    "import re\n",
    "\n",
    "def task_16_func(n):\n",
    "    phone_number_pattern = r'(\\+?\\d{1,2}\\s?)?(\\(?\\d{3}\\)?[\\s.-]?)?\\d{3}[\\s.-]?\\d{2}[\\s.-]?\\d{2}'\n",
    "    phone_numbers = re.findall(phone_number_pattern, n)\n",
    "    return [''.join(filter(str.isdigit, number)) for number in phone_numbers]\n",
    "\n",
    "# Example usage\n",
    "input_text = \"Please contact me at +1 123-456-7890 or 555-5555. My other number is (123) 456 7890.\"\n",
    "numbers = task_16_func(input_text)\n",
    "print(numbers)\n"
   ]
  },
  {
   "cell_type": "markdown",
   "metadata": {},
   "source": [
    "__Задание 17 (5 баллов):__ Опишем бинарное дерево, представленное в виде вложенных кортежей, в каждом узле дерева хранится вещественное число и ссылка на левое и правое поддерево.\n",
    "\n",
    "Пример: для сбалансированного дерева\n",
    "\n",
    "```\n",
    "        v_0\n",
    "       /   \\\n",
    "   v_11     v_12\n",
    "  /  \\       /  \\\n",
    "v_21 v_22  v_23 v_24\n",
    "```\n",
    "\n",
    "представление в виде кортежей будет выглядеть так:\n",
    "\n",
    "```\n",
    "(v_0,\n",
    "    (v_11,\n",
    "        (v_21, None, None),\n",
    "        (v_22, None, None)\n",
    "    ),\n",
    "    (v_12,\n",
    "        (v_23, None, None),\n",
    "        (v_24, None, None)\n",
    "    )\n",
    ")\n",
    "```\n",
    "\n",
    "Необходимо написать функцию, которая принимает на вход бинарное дерево (не обязательно сбалансированное), закодированное описанным способом в виде кортежа, производит его обход в глубину и для каждой листовой вершины вычисляет сумму всех значений от корня до неё включительно. Функция ничего не возвращает, вместо этого она выводит получаемые суммы в порядке следования листовых вершин (слева направо).\n",
    "\n",
    "Реализуйте два решения: на основе рекурсии и на основе циклов."
   ]
  },
  {
   "cell_type": "code",
   "execution_count": 180,
   "metadata": {},
   "outputs": [
    {
     "name": "stdout",
     "output_type": "stream",
     "text": [
      "Recursive depth-first traversal:\n",
      "18 22 37 45 \n",
      "Iterative depth-first traversal:\n",
      "45 37 22 18 "
     ]
    }
   ],
   "source": [
    "def task_17_func(n, current_sum=0):\n",
    "    tree = n\n",
    "    if tree is None:\n",
    "        return\n",
    "    current_sum += tree[0]\n",
    "    if tree[1] is None and tree[2] is None:  # Check if it's a leaf node\n",
    "        print(current_sum, end=\" \")\n",
    "    else:\n",
    "        task_17_func(tree[1], current_sum)\n",
    "        task_17_func(tree[2], current_sum)\n",
    "\n",
    "# Iterative solution\n",
    "def task_17_func2(n):\n",
    "    tree = n\n",
    "    stack = [(tree, 0)]\n",
    "    while stack:\n",
    "        node, current_sum = stack.pop()\n",
    "        current_sum += node[0]\n",
    "        if node[1] is None and node[2] is None:  # Check if it's a leaf node\n",
    "            print(current_sum, end=\" \")\n",
    "        else:\n",
    "            if node[1]:\n",
    "                stack.append((node[1], current_sum))\n",
    "            if node[2]:\n",
    "                stack.append((node[2], current_sum))\n",
    "\n",
    "# Example usage\n",
    "binary_tree = (10, (5, (3, None, None), (7, None, None)), (15, (12, None, None), (20, None, None)))\n",
    "\n",
    "print(\"Recursive depth-first traversal:\")\n",
    "task_17_func(binary_tree)\n",
    "print(\"\\nIterative depth-first traversal:\")\n",
    "task_17_func2(binary_tree)\n"
   ]
  },
  {
   "cell_type": "code",
   "execution_count": null,
   "metadata": {},
   "outputs": [],
   "source": []
  }
 ],
 "metadata": {
  "kernelspec": {
   "display_name": "Python 3 (ipykernel)",
   "language": "python",
   "name": "python3"
  },
  "language_info": {
   "codemirror_mode": {
    "name": "ipython",
    "version": 3
   },
   "file_extension": ".py",
   "mimetype": "text/x-python",
   "name": "python",
   "nbconvert_exporter": "python",
   "pygments_lexer": "ipython3",
   "version": "3.8.0"
  }
 },
 "nbformat": 4,
 "nbformat_minor": 2
}
